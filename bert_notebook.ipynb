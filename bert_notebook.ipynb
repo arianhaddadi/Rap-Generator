{
 "cells": [
  {
   "attachments": {},
   "cell_type": "markdown",
   "metadata": {},
   "source": [
    "# This notebook fine-tunes the BERT model used for choosing between the candidates of the next sentence"
   ]
  },
  {
   "attachments": {},
   "cell_type": "markdown",
   "metadata": {
    "collapsed": false
   },
   "source": [
    "## Importing Required Components"
   ]
  },
  {
   "cell_type": "code",
   "execution_count": 1,
   "metadata": {
    "ExecuteTime": {
     "end_time": "2023-04-17T17:43:09.132094Z",
     "start_time": "2023-04-17T17:43:05.473165Z"
    },
    "collapsed": true
   },
   "outputs": [],
   "source": [
    "import torch\n",
    "import random\n",
    "import pickle\n",
    "import itertools\n",
    "import matplotlib.pyplot as plt\n",
    "import numpy as np\n",
    "import pandas as pd\n",
    "\n",
    "from transformers import AutoTokenizer, AdamW, BertForNextSentencePrediction, get_linear_schedule_with_warmup\n",
    "from torch.utils.data import DataLoader, RandomSampler, SequentialSampler, TensorDataset, random_split"
   ]
  },
  {
   "attachments": {},
   "cell_type": "markdown",
   "metadata": {
    "collapsed": false
   },
   "source": [
    "## Some Preparations"
   ]
  },
  {
   "cell_type": "code",
   "execution_count": 2,
   "metadata": {
    "ExecuteTime": {
     "end_time": "2023-04-17T17:43:09.170991Z",
     "start_time": "2023-04-17T17:43:09.132094Z"
    },
    "collapsed": false
   },
   "outputs": [],
   "source": [
    "%matplotlib inline\n",
    "\n",
    "random.seed(17)\n",
    "np.random.seed(17)\n",
    "torch.manual_seed(17)\n",
    "torch.cuda.manual_seed_all(17)"
   ]
  },
  {
   "attachments": {},
   "cell_type": "markdown",
   "metadata": {
    "collapsed": false
   },
   "source": [
    "## Reading Dataset"
   ]
  },
  {
   "cell_type": "code",
   "execution_count": null,
   "metadata": {
    "ExecuteTime": {
     "end_time": "2023-04-17T19:11:55.137768Z",
     "start_time": "2023-04-17T19:11:49.228219Z"
    },
    "collapsed": false
   },
   "outputs": [],
   "source": [
    "df = pd.read_csv(\"data.csv\")\n",
    "raps = df[\"rap\"].values.tolist()\n",
    "rappers = df[\"rapper\"].unique().tolist()\n",
    "device = torch.device(\"cuda\") if torch.cuda.is_available() else torch.device(\"cpu\")"
   ]
  },
  {
   "attachments": {},
   "cell_type": "markdown",
   "metadata": {
    "collapsed": false
   },
   "source": [
    "## Configuring Tokenizer and Model Config"
   ]
  },
  {
   "cell_type": "code",
   "execution_count": null,
   "metadata": {
    "ExecuteTime": {
     "end_time": "2023-04-17T17:43:12.444540Z",
     "start_time": "2023-04-17T17:43:09.353187Z"
    },
    "collapsed": false
   },
   "outputs": [],
   "source": [
    "model_name = \"HooshvareLab/bert-base-parsbert-uncased\"\n",
    "\n",
    "tokenizer = AutoTokenizer.from_pretrained(model_name)\n",
    "model = BertForNextSentencePrediction.from_pretrained(model_name)\n",
    "model.to(device)"
   ]
  },
  {
   "attachments": {},
   "cell_type": "markdown",
   "metadata": {
    "collapsed": false
   },
   "source": [
    "## Converting Raw Data to Torch Dataset"
   ]
  },
  {
   "cell_type": "code",
   "execution_count": 5,
   "metadata": {
    "ExecuteTime": {
     "end_time": "2023-04-17T17:43:12.491857Z",
     "start_time": "2023-04-17T17:43:12.453244Z"
    },
    "collapsed": false
   },
   "outputs": [],
   "source": [
    "def create_pairs_from_orig_data(raps):\n",
    "    pairs = []\n",
    "\n",
    "    for rap in raps:\n",
    "        rap_sentences = rap.split(\"<sep>\")\n",
    "        num_of_sentences = len(rap_sentences)\n",
    "        num_of_zeros, num_of_ones = 0, 0\n",
    "        for i, j in itertools.permutations(range(num_of_sentences), 2):\n",
    "            if j == i + 1:\n",
    "                pairs.append([rap_sentences[i], rap_sentences[j], 0])\n",
    "                pairs.append([rap_sentences[i], rap_sentences[j], 0])\n",
    "                num_of_zeros += 1\n",
    "            elif num_of_ones < num_of_sentences * 2:\n",
    "                pairs.append([rap_sentences[i], rap_sentences[j], 1])\n",
    "                num_of_ones += 1\n",
    "            if num_of_zeros == int(num_of_sentences):\n",
    "                break\n",
    "\n",
    "    return pairs\n",
    "\n",
    "\n",
    "def create_dataset_from_pairs(pairs):\n",
    "    input_ids, token_type_ids, attention_mask, labels = [], [], [], []\n",
    "\n",
    "    for pair in pairs:\n",
    "        sentence1, sentence2, label = pair\n",
    "        encoding = tokenizer.encode_plus(sentence1, sentence2,\n",
    "                                         add_special_tokens=True,\n",
    "                                         max_length=128,\n",
    "                                         padding=\"max_length\",\n",
    "                                         return_tensors=\"pt\")\n",
    "\n",
    "        input_ids.append(encoding[\"input_ids\"])\n",
    "        token_type_ids.append(encoding[\"token_type_ids\"])\n",
    "        attention_mask.append(encoding[\"attention_mask\"])\n",
    "        labels.append(label)\n",
    "\n",
    "    input_ids = torch.cat(input_ids, dim=0)\n",
    "    token_type_ids = torch.cat(token_type_ids, dim=0)\n",
    "    attention_mask = torch.cat(attention_mask, dim=0)\n",
    "    labels = torch.tensor(labels)\n",
    "\n",
    "    return TensorDataset(input_ids, token_type_ids, attention_mask, labels)\n",
    "\n",
    "def get_train_val_datasets(ds, val_size=512):\n",
    "    train_ds, val_ds = random_split(ds, [len(ds) - val_size, val_size])\n",
    "    return train_ds, val_ds\n",
    "\n",
    "def read_pickle_data(addr, mode=\"rb\"):\n",
    "    with open(addr, mode) as file:\n",
    "        data = pickle.load(file)\n",
    "\n",
    "    return data\n",
    "\n",
    "def write_pickle_data(addr, data, mode=\"wb\"):\n",
    "    with open(addr, mode) as file:\n",
    "        pickle.dump(data, file)"
   ]
  },
  {
   "attachments": {},
   "cell_type": "markdown",
   "metadata": {
    "collapsed": false
   },
   "source": [
    "## Calling The Above Functions"
   ]
  },
  {
   "cell_type": "code",
   "execution_count": null,
   "metadata": {
    "ExecuteTime": {
     "end_time": "2023-04-17T17:46:39.963415Z",
     "start_time": "2023-04-17T17:43:12.480908Z"
    },
    "collapsed": false
   },
   "outputs": [],
   "source": [
    "pairs = create_pairs_from_orig_data(raps)\n",
    "ds = create_dataset_from_pairs(pairs)\n",
    "write_pickle_data(\"data/bert_ds.pickle\", ds)\n",
    "# ds = read_pickle_data(\"data/bert_ds.pickle\")\n",
    "train_ds, val_ds = get_train_val_datasets(ds)"
   ]
  },
  {
   "attachments": {},
   "cell_type": "markdown",
   "metadata": {
    "collapsed": false
   },
   "source": [
    "## Configuring Train and Validation Dataloaders"
   ]
  },
  {
   "cell_type": "code",
   "execution_count": 8,
   "metadata": {
    "ExecuteTime": {
     "end_time": "2023-04-17T17:46:39.981682Z",
     "start_time": "2023-04-17T17:46:39.963415Z"
    },
    "collapsed": false
   },
   "outputs": [],
   "source": [
    "batch_size = 32\n",
    "num_samples = 15000\n",
    "\n",
    "train_dataloader = DataLoader(\n",
    "    train_ds,\n",
    "    sampler=RandomSampler(train_ds, num_samples=num_samples),\n",
    "    batch_size=batch_size\n",
    ")\n",
    "\n",
    "val_dataloader = DataLoader(\n",
    "    val_ds,\n",
    "    sampler=SequentialSampler(val_ds),\n",
    "    batch_size=batch_size\n",
    ")"
   ]
  },
  {
   "attachments": {},
   "cell_type": "markdown",
   "metadata": {
    "collapsed": false
   },
   "source": [
    "## Configuring Optimizer and Scheduler"
   ]
  },
  {
   "cell_type": "code",
   "execution_count": 9,
   "metadata": {
    "ExecuteTime": {
     "end_time": "2023-04-17T17:46:40.031786Z",
     "start_time": "2023-04-17T17:46:39.982966Z"
    },
    "collapsed": false
   },
   "outputs": [],
   "source": [
    "epochs = 5\n",
    "learning_rate = 8e-6\n",
    "\n",
    "optimizer = AdamW(model.parameters(), lr=learning_rate, eps=1e-8, no_deprecation_warning=True)\n",
    "scheduler = get_linear_schedule_with_warmup(optimizer=optimizer, num_warmup_steps=0, num_training_steps=len(train_dataloader) * epochs)"
   ]
  },
  {
   "attachments": {},
   "cell_type": "markdown",
   "metadata": {
    "collapsed": false
   },
   "source": [
    "## Training and Evaluating the Model"
   ]
  },
  {
   "cell_type": "code",
   "execution_count": 10,
   "metadata": {
    "ExecuteTime": {
     "end_time": "2023-04-17T17:24:23.521314Z",
     "start_time": "2023-04-17T17:24:23.521314Z"
    },
    "collapsed": false
   },
   "outputs": [
    {
     "name": "stdout",
     "output_type": "stream",
     "text": [
      "Epoch: 1\n",
      "Step 0 Passed.\n",
      "Step 250 Passed.\n",
      "Epoch Validation Loss: 0.5082293581217527\n",
      "Epoch Train Loss: 0.5153779146958516\n",
      "Epoch: 2\n",
      "Step 0 Passed.\n",
      "Step 250 Passed.\n",
      "Epoch Validation Loss: 0.4746099002659321\n",
      "Epoch Train Loss: 0.4709767334496797\n",
      "Epoch: 3\n",
      "Step 0 Passed.\n",
      "Step 250 Passed.\n",
      "Epoch Validation Loss: 0.4465049933642149\n",
      "Epoch Train Loss: 0.4502413380247698\n",
      "Epoch: 4\n",
      "Step 0 Passed.\n",
      "Step 250 Passed.\n",
      "Epoch Validation Loss: 0.40503902919590473\n",
      "Epoch Train Loss: 0.42310934493155367\n",
      "Epoch: 5\n",
      "Step 0 Passed.\n",
      "Step 250 Passed.\n",
      "Epoch Validation Loss: 0.3900621421635151\n",
      "Epoch Train Loss: 0.3983596551265798\n"
     ]
    },
    {
     "data": {
      "image/png": "[encoded data removed]",
      "text/plain": [
       "<Figure size 640x480 with 1 Axes>"
      ]
     },
     "metadata": {},
     "output_type": "display_data"
    }
   ],
   "source": [
    "train_losses, val_losses = [], []\n",
    "\n",
    "for epoch in range(epochs):\n",
    "    print(f\"Epoch: {epoch + 1}\")\n",
    "    # Train Phase\n",
    "    train_loss = 0\n",
    "    model.train()\n",
    "    model.zero_grad()\n",
    "\n",
    "    for step, batch in enumerate(train_dataloader):\n",
    "        batch_input_ids = batch[0].to(device)\n",
    "        batch_token_type_ids = batch[1].to(device)\n",
    "        batch_attention_mask = batch[2].to(device)\n",
    "        batch_labels = batch[3].to(device)\n",
    "\n",
    "        model.zero_grad()\n",
    "\n",
    "        res = model(batch_input_ids,\n",
    "                    token_type_ids=batch_token_type_ids,\n",
    "                    attention_mask=batch_attention_mask,\n",
    "                    labels=batch_labels,\n",
    "                    return_dict=True)\n",
    "\n",
    "        batch_loss = res.loss\n",
    "        train_loss += batch_loss.item()\n",
    "\n",
    "        batch_loss.backward()\n",
    "        optimizer.step()\n",
    "        scheduler.step()\n",
    "        torch.nn.utils.clip_grad_norm_(model.parameters(), 1.0)\n",
    "\n",
    "        if step % 250 == 0:\n",
    "            print(f\"Step {step} Passed.\")\n",
    "\n",
    "    avg_train_loss = train_loss / len(train_dataloader)\n",
    "    train_losses.append(avg_train_loss)\n",
    "\n",
    "    # Evaluation Phase\n",
    "    val_loss = 0\n",
    "    model.eval()\n",
    "    for batch in val_dataloader:\n",
    "        batch_input_ids = batch[0].to(device)\n",
    "        batch_token_type_ids = batch[1].to(device)\n",
    "        batch_attention_mask = batch[2].to(device)\n",
    "        batch_labels = batch[3].to(device)\n",
    "\n",
    "        with torch.no_grad():\n",
    "            res = model(batch_input_ids,\n",
    "                        token_type_ids=batch_token_type_ids,\n",
    "                        attention_mask=batch_attention_mask,\n",
    "                        labels=batch_labels,\n",
    "                        return_dict=True)\n",
    "\n",
    "            batch_loss = res.loss\n",
    "            val_loss += batch_loss.item()\n",
    "\n",
    "    avg_val_loss = val_loss / len(val_dataloader)\n",
    "    val_losses.append(avg_val_loss)\n",
    "\n",
    "    print(f\"Epoch Validation Loss: {avg_val_loss}\")\n",
    "    print(f\"Epoch Train Loss: {avg_train_loss}\")\n",
    "\n",
    "\n",
    "# Plotting Train and Validation Loss\n",
    "plt.plot(train_losses)\n",
    "plt.plot(val_losses)\n",
    "plt.title('Model Loss')\n",
    "plt.ylabel('Loss')\n",
    "plt.xlabel('Epoch')\n",
    "plt.legend(['Train', 'Val'], loc='upper left')\n",
    "plt.show()"
   ]
  },
  {
   "attachments": {},
   "cell_type": "markdown",
   "metadata": {
    "collapsed": false
   },
   "source": [
    "## Saving The Model To The Disk"
   ]
  },
  {
   "cell_type": "code",
   "execution_count": 12,
   "metadata": {
    "ExecuteTime": {
     "end_time": "2023-04-17T18:21:45.319310Z",
     "start_time": "2023-04-17T18:21:38.882433Z"
    },
    "collapsed": false
   },
   "outputs": [],
   "source": [
    "# model.save_pretrained(\"models/bert_model\")"
   ]
  }
 ],
 "metadata": {
  "kernelspec": {
   "display_name": "Python 3",
   "language": "python",
   "name": "python3"
  },
  "language_info": {
   "codemirror_mode": {
    "name": "ipython",
    "version": 2
   },
   "file_extension": ".py",
   "mimetype": "text/x-python",
   "name": "python",
   "nbconvert_exporter": "python",
   "pygments_lexer": "ipython2",
   "version": "2.7.6"
  }
 },
 "nbformat": 4,
 "nbformat_minor": 0
}
