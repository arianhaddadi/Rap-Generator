{
 "cells": [
  {
   "attachments": {},
   "cell_type": "markdown",
   "metadata": {},
   "source": [
    "## Importing Required Modules"
   ]
  },
  {
   "cell_type": "code",
   "execution_count": null,
   "metadata": {
    "ExecuteTime": {
     "end_time": "2023-04-20T21:06:48.917047Z",
     "start_time": "2023-04-20T21:06:47.726776Z"
    }
   },
   "outputs": [],
   "source": [
    "import lyricsgenius\n",
    "import pandas as pd\n",
    "import string\n",
    "import hazm"
   ]
  },
  {
   "attachments": {},
   "cell_type": "markdown",
   "metadata": {},
   "source": [
    "## Defining The List of Rappers and Their Corresponding Persian Name"
   ]
  },
  {
   "cell_type": "code",
   "execution_count": null,
   "metadata": {
    "ExecuteTime": {
     "end_time": "2023-04-20T21:06:48.932651Z",
     "start_time": "2023-04-20T21:06:48.917047Z"
    }
   },
   "outputs": [],
   "source": [
    "artists = [\n",
    "    'Hichkas',\n",
    "    'Zedbazi',\n",
    "    'Sepehr Khalse',\n",
    "    'Mehrad Hidden',\n",
    "    'Saman Wilson',\n",
    "    'Sohrab MJ',\n",
    "    'Sijal',\n",
    "    'Alireza JJ',\n",
    "    'Ali Sorena',\n",
    "    'Fadaei',\n",
    "    'Ho3ein',\n",
    "    'Quf',\n",
    "    'Gdaal',\n",
    "    'Erfan',\n",
    "    'Taham',\n",
    "    'Behzad Leito',\n",
    "    'Hiphopologist',\n",
    "    'Shayea',\n",
    "    'Ali Owj',\n",
    "    'Amirali A2',\n",
    "    'Amir Tataloo',\n",
    "    'Koorosh',\n",
    "    'Wantons',\n",
    "    'Tik Taak',\n",
    "    'Sina Sa-E',\n",
    "    'Sina Mafee',\n",
    "    'Catchybeatz',\n",
    "    'Putak',\n",
    "    '021kid',\n",
    "    'Emad Ghavidel',\n",
    "    'Bahram',\n",
    "    'Reza Pishro'\n",
    "]\n",
    "\n",
    "artists_english_to_persian_map = {\n",
    "    'Hichkas': \"هیچکس\",\n",
    "    'Zedbazi': \"زدبازی\",\n",
    "    'Sepehr Khalse': \"خلسه\",\n",
    "    'Mehrad Hidden': \"هیدن\",\n",
    "    'Saman Wilson': \"ویلسون\",\n",
    "    'Sohrab MJ': \"سهراب\",\n",
    "    'Sijal': \"سیجل\",\n",
    "    'Alireza JJ': \"جیجی\",\n",
    "    'Ali Sorena': \"سورنا\",\n",
    "    'Fadaei': \"فدایی\",\n",
    "    'Ho3ein': \"حصین\",\n",
    "    'Quf': \"قاف\",\n",
    "    'Gdaal': \"جیدال\",\n",
    "    'Erfan': \"عرفان\",\n",
    "    'Taham': \"طهم\",\n",
    "    'Behzad Leito': \"لیتو\",\n",
    "    'Hiphopologist': \"هیپهاپولوژیست\",\n",
    "    'Shayea': \"شایع\",\n",
    "    'Ali Owj': \"اوج\",\n",
    "    'Amirali A2': \"ایتو\",\n",
    "    'Amir Tataloo': \"تتلو\",\n",
    "    'Koorosh': \"کوروش\",\n",
    "    'Wantons': \"وانتونز\",\n",
    "    'Tik Taak': \"تیکتاک\",\n",
    "    'Sina Sa-E': \"ساعی\",\n",
    "    'Sina Mafee': \"مافی\",\n",
    "    'Catchybeatz': \"کچیبیتز\",\n",
    "    'Putak': \"پوتک\",\n",
    "    '021kid': \"کودک\",\n",
    "    'Emad Ghavidel': \"قویدل\",\n",
    "    'Bahram': \"بهرام\",\n",
    "    'Reza Pishro': \"پیشرو\",\n",
    "}"
   ]
  },
  {
   "attachments": {},
   "cell_type": "markdown",
   "metadata": {},
   "source": [
    "## Crawling Raps"
   ]
  },
  {
   "cell_type": "code",
   "execution_count": null,
   "metadata": {
    "ExecuteTime": {
     "end_time": "2023-04-20T21:08:24.159596Z",
     "start_time": "2023-04-20T21:06:48.932651Z"
    }
   },
   "outputs": [],
   "source": [
    "genius = lyricsgenius.Genius(\"HGNAkuEcjgTQ5qfNXv7gnHrO5efWfMAGlCOqvMW7U4I9p-fKCFdkRt7-KrbdzQ9W\")\n",
    "\n",
    "data = {}\n",
    "for artist in artists:\n",
    "    artist_persian_name = artists_english_to_persian_map[artist]\n",
    "    if artist_persian_name not in data:\n",
    "        data[artist_persian_name] = {}\n",
    "    artist_data = genius.search_artist(artist)\n",
    "    for song in artist_data.songs:\n",
    "        data[artist_persian_name][song.title] = song.lyrics"
   ]
  },
  {
   "attachments": {},
   "cell_type": "markdown",
   "metadata": {},
   "source": [
    "## Defining Functions For Cleaning Up Data"
   ]
  },
  {
   "cell_type": "code",
   "execution_count": null,
   "metadata": {
    "ExecuteTime": {
     "end_time": "2023-04-20T21:08:24.175136Z",
     "start_time": "2023-04-20T21:08:24.159596Z"
    }
   },
   "outputs": [],
   "source": [
    "def clean_lines(data):\n",
    "    for rapper in data:\n",
    "        raps = data[rapper]\n",
    "        musics_to_remove = []\n",
    "        for rap in raps:\n",
    "            text = raps[rap]\n",
    "            text_lines = text.split('\\n')\n",
    "            new_text_lines = []\n",
    "            for line in text_lines:\n",
    "                char_set = set(line)\n",
    "                if '[' in char_set or '{' in char_set or 'c' in char_set or len(char_set) in [0, 1]:\n",
    "                    continue\n",
    "                new_text_lines.append(line)\n",
    "            if len(new_text_lines) > 2:\n",
    "                raps[rap] = '\\n'.join(new_text_lines)\n",
    "            else:\n",
    "                musics_to_remove.append(rap)\n",
    "        for music in musics_to_remove:\n",
    "            del raps[music]\n",
    "\n",
    "\n",
    "def clean_characters(data):\n",
    "    for rapper in data:\n",
    "        raps = data[rapper]\n",
    "        for rap in raps:\n",
    "            text = raps[rap]\n",
    "            text_lines = text.split('\\n')\n",
    "            for i, line in enumerate(text_lines):\n",
    "                chars_to_replace_with_space = ['\\xa0', '\\u200c', '\\u205F', '\\u2005', '\\u200e', '\\u200f', '\\u202b']\n",
    "                chars_to_remove = list(map(lambda x: str(x), range(10)))\n",
    "                chars_to_remove.extend(set(\"-,.*#@!&\\\"\\'?\"))\n",
    "                chars_to_remove.extend([char for char in string.ascii_lowercase + string.ascii_uppercase])\n",
    "                for char in chars_to_replace_with_space:\n",
    "                    line = line.replace(char, ' ')\n",
    "                for char in chars_to_remove:\n",
    "                    line = line.replace(char, '')\n",
    "                text_lines[i] = line\n",
    "            raps[rap] = '\\n'.join(text_lines)"
   ]
  },
  {
   "attachments": {},
   "cell_type": "markdown",
   "metadata": {},
   "source": [
    "## Cleaning The Data"
   ]
  },
  {
   "cell_type": "code",
   "execution_count": null,
   "metadata": {
    "ExecuteTime": {
     "end_time": "2023-04-20T21:08:24.269087Z",
     "start_time": "2023-04-20T21:08:24.253261Z"
    }
   },
   "outputs": [],
   "source": [
    "clean_lines(data)\n",
    "clean_characters(data)\n",
    "clean_lines(data)"
   ]
  },
  {
   "attachments": {},
   "cell_type": "markdown",
   "metadata": {},
   "source": [
    "## Normalizing Rap Texts & Adding Some of the Special Tokens"
   ]
  },
  {
   "cell_type": "code",
   "execution_count": null,
   "metadata": {
    "ExecuteTime": {
     "end_time": "2023-04-20T21:08:25.908044Z",
     "start_time": "2023-04-20T21:08:25.892237Z"
    }
   },
   "outputs": [],
   "source": [
    "data_list = []\n",
    "normalizer = hazm.Normalizer(persian_numbers=False)\n",
    "\n",
    "for rapper in data:\n",
    "    raps = data[rapper]\n",
    "    for rap in raps:\n",
    "        text = raps[rap]\n",
    "        text = normalizer.normalize(text)\n",
    "        data_list.append([rapper, f\"{rapper}<|startoftext|>{text}\".replace(\"\\n\", \"<sep>\").replace(\"\\t\", \"<sep>\").replace(\"<sep><sep>\", \"<sep>\")])"
   ]
  },
  {
   "attachments": {},
   "cell_type": "markdown",
   "metadata": {},
   "source": [
    "## Saving Dataset To Disk as a Pandas Dataframe"
   ]
  },
  {
   "cell_type": "code",
   "execution_count": null,
   "metadata": {
    "ExecuteTime": {
     "end_time": "2023-04-20T21:08:26.001787Z",
     "start_time": "2023-04-20T21:08:25.908044Z"
    }
   },
   "outputs": [],
   "source": [
    "df = pd.DataFrame(data_list, columns=[\"rapper\", \"rap\"]).to_csv(\"data_temp.csv\", index=False)"
   ]
  }
 ],
 "metadata": {
  "kernelspec": {
   "display_name": "venv",
   "language": "python",
   "name": "python3"
  },
  "language_info": {
   "codemirror_mode": {
    "name": "ipython",
    "version": 3
   },
   "file_extension": ".py",
   "mimetype": "text/x-python",
   "name": "python",
   "nbconvert_exporter": "python",
   "pygments_lexer": "ipython3",
   "version": "3.10.8"
  },
  "orig_nbformat": 4
 },
 "nbformat": 4,
 "nbformat_minor": 2
}
